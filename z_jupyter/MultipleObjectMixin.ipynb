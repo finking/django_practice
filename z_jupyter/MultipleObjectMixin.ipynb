{
 "cells": [
  {
   "cell_type": "code",
   "execution_count": null,
   "id": "e8686924-488d-4e70-afed-33e61db524b4",
   "metadata": {},
   "outputs": [],
   "source": [
    "## Проработка исходника Джанго,а также фрагменты документации\n",
    "\n",
    "\"\"\"\n",
    "Цель: научиться писать профессионально, методом переваривания понятного и непонятного\n",
    "\n",
    "\"\"\""
   ]
  },
  {
   "cell_type": "code",
   "execution_count": 32,
   "id": "d69df8df-6cfe-4570-b6bc-948cba57c898",
   "metadata": {},
   "outputs": [],
   "source": [
    "class ContextMixin:\n",
    "    \"\"\"\n",
    "    Миксин контекста по умолчанию, который передает аргументы ключевого слова, полученные\n",
    "     get_context_data() в качестве контекста шаблона.\n",
    "     \n",
    "     \"None\" часто используется как значение по умолчанию для переменных, которым еще не было присвоено значение, или как контрольное значение, \n",
    "     указывающее на конец списка или отсутствие элемента в словаре.\n",
    "     \n",
    "     # https://github.com/django/django/blob/40217d1a82b0c16cddba377325d12b2c253f402a/django/views/generic/base.py#L21\n",
    "    \n",
    "    \n",
    "    Двойные звездочки ( **) перед именем параметра kwargs указывают на то, что параметр является словарем\n",
    "    \n",
    "    \"\"\"\n",
    "\n",
    "    extra_context = None          #  дополнительный атрибут с значением \"ничего\"\n",
    "    \n",
    "\n",
    "    def get_context_data(self, **kwargs):    # цель функции - обработать ключевые аргументы и \n",
    "        kwargs.setdefault(\"view\", self)      # метод словаря устанавливает значение по умолчанию \"view\", если ключ не существует\n",
    "        if self.extra_context is not None:\n",
    "            kwargs.update(self.extra_context)\n",
    "        return kwargs                        # возвращает значения ключа\n",
    "    \n",
    "    #get_context_data()\n",
    "    #get_context_data(None)\n",
    "\n",
    "     "
   ]
  },
  {
   "cell_type": "code",
   "execution_count": 30,
   "id": "64521f5d-75a4-4faa-b9d0-8823b4a681d6",
   "metadata": {},
   "outputs": [
    {
     "ename": "RuntimeError",
     "evalue": "super(): __class__ cell not found",
     "output_type": "error",
     "traceback": [
      "\u001b[1;31m---------------------------------------------------------------------------\u001b[0m",
      "\u001b[1;31mRuntimeError\u001b[0m                              Traceback (most recent call last)",
      "Input \u001b[1;32mIn [30]\u001b[0m, in \u001b[0;36m<cell line: 13>\u001b[1;34m()\u001b[0m\n\u001b[0;32m     11\u001b[0m     \u001b[38;5;28;01mreturn\u001b[39;00m context                                    \u001b[38;5;66;03m# квадратные скобки указывают на доступ к значению\u001b[39;00m\n\u001b[0;32m     12\u001b[0m     \u001b[38;5;28mprint\u001b[39m(context)\n\u001b[1;32m---> 13\u001b[0m \u001b[43mget_context_data\u001b[49m\u001b[43m(\u001b[49m\u001b[38;5;124;43m\"\u001b[39;49m\u001b[38;5;124;43mview\u001b[39;49m\u001b[38;5;124;43m\"\u001b[39;49m\u001b[43m)\u001b[49m\n",
      "Input \u001b[1;32mIn [30]\u001b[0m, in \u001b[0;36mget_context_data\u001b[1;34m(self, **kwargs)\u001b[0m\n\u001b[0;32m      8\u001b[0m \u001b[38;5;28;01mdef\u001b[39;00m \u001b[38;5;21mget_context_data\u001b[39m(\u001b[38;5;28mself\u001b[39m, \u001b[38;5;241m*\u001b[39m\u001b[38;5;241m*\u001b[39mkwargs):\n\u001b[1;32m----> 9\u001b[0m     context \u001b[38;5;241m=\u001b[39m \u001b[38;5;28;43msuper\u001b[39;49m\u001b[43m(\u001b[49m\u001b[43m)\u001b[49m\u001b[38;5;241m.\u001b[39mget_context_data(\u001b[38;5;241m*\u001b[39m\u001b[38;5;241m*\u001b[39mkwargs)      \u001b[38;5;66;03m# позволяет ссылаться на род. класс .обьекта \u001b[39;00m\n\u001b[0;32m     10\u001b[0m     context[\u001b[38;5;124m'\u001b[39m\u001b[38;5;124mnumber\u001b[39m\u001b[38;5;124m'\u001b[39m] \u001b[38;5;241m=\u001b[39m random\u001b[38;5;241m.\u001b[39mrandrange(\u001b[38;5;241m1\u001b[39m, \u001b[38;5;241m100\u001b[39m)      \u001b[38;5;66;03m# тут идёт добавление в словарь значения\u001b[39;00m\n\u001b[0;32m     11\u001b[0m     \u001b[38;5;28;01mreturn\u001b[39;00m context                                    \u001b[38;5;66;03m# квадратные скобки указывают на доступ к значению\u001b[39;00m\n",
      "\u001b[1;31mRuntimeError\u001b[0m: super(): __class__ cell not found"
     ]
    }
   ],
   "source": [
    "\"\"\"\n",
    "Возвращает словарь, представляющий контекст шаблона.\n",
    "Предоставленные аргументы ключевого слова будут составлять возвращаемый контекст. Пример использования:\n",
    "\n",
    "# https://docs.djangoproject.com/en/4.1/ref/class-based-views/mixins-simple/\n",
    "\"\"\"\n",
    "\n",
    "def get_context_data(self, **kwargs):\n",
    "    context = super().get_context_data(**kwargs)      # позволяет ссылаться на род. класс .обьекта \n",
    "    context['number'] = random.randrange(1, 100)      # тут идёт добавление в словарь значения\n",
    "    return context                                    # квадратные скобки указывают на доступ к значению\n",
    "    print(context)\n",
    "get_context_data(\"view\")           # супер не может найти род. класс , так как это всего лишь фрагмент\n",
    "\n",
    "# на сколько я понимаю класс находится выше, но пока что еще картина маслом\n",
    "# начал прорабатывать родительский класс base.py, чтобы понять что же использует класс наследник"
   ]
  },
  {
   "cell_type": "code",
   "execution_count": 31,
   "id": "57b5d5ed-eb2c-4ff3-a29f-207aa4ab8c30",
   "metadata": {},
   "outputs": [],
   "source": [
    "# подходим к классу наследнику в list.py\n",
    "# https://github.com/django/django/blob/main/django/views/generic/list.py"
   ]
  },
  {
   "cell_type": "code",
   "execution_count": 33,
   "id": "edfa63f1-2dc0-4491-92e1-7b2c40cbb81f",
   "metadata": {},
   "outputs": [
    {
     "ename": "ModuleNotFoundError",
     "evalue": "No module named 'django'",
     "output_type": "error",
     "traceback": [
      "\u001b[1;31m---------------------------------------------------------------------------\u001b[0m",
      "\u001b[1;31mModuleNotFoundError\u001b[0m                       Traceback (most recent call last)",
      "Input \u001b[1;32mIn [33]\u001b[0m, in \u001b[0;36m<cell line: 1>\u001b[1;34m()\u001b[0m\n\u001b[1;32m----> 1\u001b[0m \u001b[38;5;28;01mfrom\u001b[39;00m \u001b[38;5;21;01mdjango\u001b[39;00m\u001b[38;5;21;01m.\u001b[39;00m\u001b[38;5;21;01mdb\u001b[39;00m\u001b[38;5;21;01m.\u001b[39;00m\u001b[38;5;21;01mmodels\u001b[39;00m \u001b[38;5;28;01mimport\u001b[39;00m QuerySet\n\u001b[0;32m      2\u001b[0m \u001b[38;5;28;01mfrom\u001b[39;00m \u001b[38;5;21;01mdjango\u001b[39;00m\u001b[38;5;21;01m.\u001b[39;00m\u001b[38;5;21;01mcore\u001b[39;00m\u001b[38;5;21;01m.\u001b[39;00m\u001b[38;5;21;01mpaginator\u001b[39;00m \u001b[38;5;28;01mimport\u001b[39;00m Paginator\n\u001b[0;32m      4\u001b[0m \u001b[38;5;28;01mclass\u001b[39;00m \u001b[38;5;21;01mMultipleObjectMixin\u001b[39;00m(ContextMixin):          \u001b[38;5;66;03m# является подклассом, класса выше\u001b[39;00m\n",
      "\u001b[1;31mModuleNotFoundError\u001b[0m: No module named 'django'"
     ]
    }
   ],
   "source": [
    "from django.db.models import QuerySet\n",
    "from django.core.paginator import Paginator\n",
    "\n",
    "class MultipleObjectMixin(ContextMixin):          # является подклассом, класса выше\n",
    "    \"\"\"Предоставляет ряд атрибутов и методов, которые можно использовать для настройки поведения универсальных представлений\"\"\"\n",
    "    # констант (True, None) находится во встроенном пространстве имен\n",
    "    allow_empty = True                       # атрибут для разрешения пустых наборов запросов\n",
    "    queryset = None\n",
    "    model = None\n",
    "    paginate_by = None                       # атрибут который разбивает на страницы\n",
    "    paginate_orphans = 0\n",
    "    context_object_name = None\n",
    "    paginator_class = Paginator                   \n",
    "    page_kwarg = \"page\"\n",
    "    ordering = None\n",
    "    \n",
    "    # это всё подкапотная часть, получается следуя документации мы вытягиваем те артибуеты которые нам нужны и используем на практике\n",
    "    def get_queryset(self):                 # метод который используется для извлечения объектов из БД\n",
    "        \"\"\"\n",
    "        Вернуть список элементов для этого представления.\n",
    "        Возвращаемое значение должно быть итерируемым и может быть экземпляром\n",
    "        `QuerySet`, и в этом случае будет включено конкретное поведение `QuerySet`.\n",
    "        \n",
    "        \"\"\"\n",
    "        if self.queryset is not None:            # если артибут не установлен, то будет использоваться по умолчанию\n",
    "            queryset = self.queryset             # вывести обьекты \n",
    "            if isinstance(queryset, QuerySet):   # isinstance пробивает информацию, да или нет\n",
    "                queryset = queryset.all()        # выводит списко обьектов\n",
    "        elif self.model is not None:             # если такой модели вообще не существует, то \n",
    "            queryset = self.model._default_manager.all()             \n",
    "        else:\n",
    "            raise ImproperlyConfigured(          # иначе исключение и предлагает сделать следующие действия\n",
    "                \"%(cls)s is missing a QuerySet. Define \"\n",
    "                \"%(cls)s.model, %(cls)s.queryset, or override \"\n",
    "                \"%(cls)s.get_queryset().\" % {\"cls\": self.__class__.__name__}\n",
    "            )\n",
    "        ordering = self.get_ordering()       # цель: получить информацию о порядке \n",
    "        if ordering:             \n",
    "            if isinstance(ordering, str):    # если ordering это строка, то отсортируй\n",
    "                ordering = (ordering,)\n",
    "            queryset = queryset.order_by(*ordering)\n",
    "\n",
    "        return queryset\n",
    "    \n",
    "\n",
    "    def get_ordering(self):          # эта функция на сколько я понимаю была создана для того, чтобы сделать пагинацию выше\n",
    "        \"\"\" функция возвращает значение ordering атрибута \"\"\"\n",
    "        return self.ordering\n",
    "    \n",
    "\n",
    "    def paginate_queryset(self, queryset, page_size):\n",
    "        \"\"\"При необходимости разбейте набор запросов на страницы\"\"\"\n",
    "        paginator = self.get_paginator(\n",
    "            queryset,\n",
    "            page_size,\n",
    "            orphans=self.get_paginate_orphans(),\n",
    "            allow_empty_first_page=self.get_allow_empty(),\n",
    "        )\n",
    "        page_kwarg = self.page_kwarg\n",
    "        page = self.kwargs.get(page_kwarg) or self.request.GET.get(page_kwarg) or 1\n",
    "        try:\n",
    "            page_number = int(page)\n",
    "        except ValueError:\n",
    "            if page == \"last\":\n",
    "                page_number = paginator.num_pages\n",
    "            else:\n",
    "                raise Http404(\n",
    "                    _(\"Page is not “last”, nor can it be converted to an int.\")\n",
    "                )\n",
    "        try:\n",
    "            page = paginator.page(page_number)\n",
    "            return (paginator, page, page.object_list, page.has_other_pages())\n",
    "        except InvalidPage as e:\n",
    "            raise Http404(\n",
    "                _(\"Invalid page (%(page_number)s): %(message)s\")\n",
    "                % {\"page_number\": page_number, \"message\": str(e)}\n",
    "            )\n",
    "# отдельные методы можно назвать слоями, теми кусками которые полноценно используются для отображения списка обьектов\n",
    "        "
   ]
  },
  {
   "cell_type": "code",
   "execution_count": null,
   "id": "a433eb59-6d2e-4d91-895c-b12a828266b9",
   "metadata": {},
   "outputs": [],
   "source": []
  },
  {
   "cell_type": "code",
   "execution_count": null,
   "id": "85202c4b-bd58-4ccf-9bb3-c6d15ad658da",
   "metadata": {},
   "outputs": [],
   "source": []
  },
  {
   "cell_type": "code",
   "execution_count": null,
   "id": "a3b047f3-bb1f-4da2-b30d-880bac63bd5d",
   "metadata": {},
   "outputs": [],
   "source": []
  }
 ],
 "metadata": {
  "kernelspec": {
   "display_name": "Python 3 (ipykernel)",
   "language": "python",
   "name": "python3"
  },
  "language_info": {
   "codemirror_mode": {
    "name": "ipython",
    "version": 3
   },
   "file_extension": ".py",
   "mimetype": "text/x-python",
   "name": "python",
   "nbconvert_exporter": "python",
   "pygments_lexer": "ipython3",
   "version": "3.9.12"
  }
 },
 "nbformat": 4,
 "nbformat_minor": 5
}

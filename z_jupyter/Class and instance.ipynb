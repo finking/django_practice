{
 "cells": [
  {
   "cell_type": "markdown",
   "id": "c4847393",
   "metadata": {},
   "source": [
    "# Разбор кода из письма от 2 февр. 2023 г., 12:28"
   ]
  },
  {
   "cell_type": "markdown",
   "id": "ca1fd7fc",
   "metadata": {},
   "source": [
    "instance - Экземпляр (перевод от гугл.переводчика)"
   ]
  },
  {
   "cell_type": "code",
   "execution_count": 3,
   "id": "2b8281a0",
   "metadata": {},
   "outputs": [],
   "source": [
    "class MyClass:\n",
    "    \"\"\"A simple example class\"\"\"\n",
    "    i = 12345 # Аттрибут\n",
    "\n",
    "    def f(self): # Метод. Но если вызвать type(MyClass.f) - выдаст function\n",
    "        return 'hello world'"
   ]
  },
  {
   "cell_type": "code",
   "execution_count": 25,
   "id": "9ae4b778",
   "metadata": {},
   "outputs": [
    {
     "data": {
      "text/plain": [
       "type"
      ]
     },
     "execution_count": 25,
     "metadata": {},
     "output_type": "execute_result"
    }
   ],
   "source": [
    "type(MyClass) # type // Не понятно, почему выдает type"
   ]
  },
  {
   "cell_type": "code",
   "execution_count": 18,
   "id": "bbd6a16d",
   "metadata": {},
   "outputs": [
    {
     "data": {
      "text/plain": [
       "'A simple example class'"
      ]
     },
     "execution_count": 18,
     "metadata": {},
     "output_type": "execute_result"
    }
   ],
   "source": [
    "MyClass.__doc__ # Тоже доступный аттрибут класса"
   ]
  },
  {
   "cell_type": "code",
   "execution_count": 4,
   "id": "ced79d47",
   "metadata": {},
   "outputs": [],
   "source": [
    "x = MyClass() # Создание экземпляра \n",
    "#(Мой вопрос: создание объекта??? Мой ответ: получается нет. Объект, он же функциональный объект, - это аттрибут класса.)\n",
    "\n",
    "# x.f()точно эквивалентно MyClass.f(x)"
   ]
  },
  {
   "cell_type": "code",
   "execution_count": null,
   "id": "dd8a9813",
   "metadata": {},
   "outputs": [],
   "source": [
    "MyClass.f(x) # вот он self в работе\n",
    "                        # В данном случае self передал наш экземпляр, потому что ранее мы так его назвали x = MyClass()\n",
    "                        # так не нужно писать, но это важно понимать."
   ]
  },
  {
   "cell_type": "code",
   "execution_count": null,
   "id": "3dc8c8b2",
   "metadata": {},
   "outputs": [],
   "source": [
    "MyClass.f(x) # вот он self в работе\n",
    "'hello world'"
   ]
  },
  {
   "cell_type": "code",
   "execution_count": null,
   "id": "15d251f8",
   "metadata": {},
   "outputs": [],
   "source": [
    "x.f()\n",
    "'hello world'"
   ]
  },
  {
   "cell_type": "markdown",
   "id": "5230bbcc",
   "metadata": {},
   "source": [
    "все атрибуты класса, функциональные объекты (не функции)\n",
    "определяют методы экземпляров.  \n",
    "x.f # **что это?** Это ссылка на объект.  \n",
    "Myclass.f # **что это?** Это функция, реализовано выше.НО это только пример,но не функция, а только для понимания, поэтому и было сказано функциональный объект, то есть по типу функции, но не функция и то только для понимания, но называться далее будет методом или правильно объект-метод  \n",
    "\n",
    "x.f **не то же самое, что** Myclass.f - это объект метода (функцию брали для примера)\n",
    " и так\n",
    "   \n",
    "x.f это **метод-ссылка**\n",
    "\n",
    "Myclass.f - **объект метода**.\n",
    "\n",
    "А это что?\n",
    "\n",
    "x.f() ????? (Мой ответ: метод экземпляра?)\n",
    "\n",
    "Вопросов больше чем достаточно."
   ]
  },
  {
   "cell_type": "code",
   "execution_count": 26,
   "id": "31952bda",
   "metadata": {},
   "outputs": [
    {
     "data": {
      "text/plain": [
       "<bound method MyClass.f of <__main__.MyClass object at 0x00000012DDA04250>>"
      ]
     },
     "execution_count": 26,
     "metadata": {},
     "output_type": "execute_result"
    }
   ],
   "source": [
    "x.f # <bound method MyClass.f of <__main__.MyClass object at 0x00000012DDA04250>>"
   ]
  },
  {
   "cell_type": "code",
   "execution_count": 28,
   "id": "6947e63a",
   "metadata": {},
   "outputs": [
    {
     "data": {
      "text/plain": [
       "<function __main__.MyClass.f(self)>"
      ]
     },
     "execution_count": 28,
     "metadata": {},
     "output_type": "execute_result"
    }
   ],
   "source": [
    "MyClass.f # <function __main__.MyClass.f(self)>"
   ]
  },
  {
   "cell_type": "code",
   "execution_count": null,
   "id": "aef41d95",
   "metadata": {},
   "outputs": [],
   "source": []
  }
 ],
 "metadata": {
  "kernelspec": {
   "display_name": "Django Shell-Plus",
   "language": "python",
   "name": "django_extensions"
  },
  "language_info": {
   "codemirror_mode": {
    "name": "ipython",
    "version": 3
   },
   "file_extension": ".py",
   "mimetype": "text/x-python",
   "name": "python",
   "nbconvert_exporter": "python",
   "pygments_lexer": "ipython3",
   "version": "3.9.13"
  }
 },
 "nbformat": 4,
 "nbformat_minor": 5
}

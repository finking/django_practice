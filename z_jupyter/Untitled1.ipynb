{
 "cells": [
  {
   "cell_type": "code",
   "execution_count": 1,
   "id": "975bc6bb",
   "metadata": {},
   "outputs": [],
   "source": [
    "from django.db import models"
   ]
  },
  {
   "cell_type": "code",
   "execution_count": 2,
   "id": "b676c4c2",
   "metadata": {},
   "outputs": [],
   "source": [
    "from help_test.models import Blog"
   ]
  },
  {
   "cell_type": "code",
   "execution_count": 3,
   "id": "e37dc769",
   "metadata": {},
   "outputs": [],
   "source": [
    "new_article = Blog(name='Первая статья', tagline=\"Первый\")"
   ]
  },
  {
   "cell_type": "code",
   "execution_count": 4,
   "id": "10e87e9f",
   "metadata": {},
   "outputs": [
    {
     "data": {
      "text/plain": [
       "<Blog: Первая статья>"
      ]
     },
     "execution_count": 4,
     "metadata": {},
     "output_type": "execute_result"
    }
   ],
   "source": [
    "new_article"
   ]
  },
  {
   "cell_type": "code",
   "execution_count": null,
   "id": "c54e64d8",
   "metadata": {},
   "outputs": [],
   "source": []
  }
 ],
 "metadata": {
  "kernelspec": {
   "display_name": "Django Shell-Plus",
   "language": "python",
   "name": "django_extensions"
  },
  "language_info": {
   "codemirror_mode": {
    "name": "ipython",
    "version": 3
   },
   "file_extension": ".py",
   "mimetype": "text/x-python",
   "name": "python",
   "nbconvert_exporter": "python",
   "pygments_lexer": "ipython3",
   "version": "3.9.13"
  }
 },
 "nbformat": 4,
 "nbformat_minor": 5
}

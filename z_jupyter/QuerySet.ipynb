{
 "cells": [
  {
   "cell_type": "code",
   "execution_count": 1,
   "id": "3b5fa47d",
   "metadata": {},
   "outputs": [],
   "source": [
    "# Необходимые настройки, чтобы Jupyter не выдал ошибку SynchronousOnlyOperation: \n",
    "# You cannot call this from an async context - use a thread or sync_to_async\n",
    "# https://docs.djangoproject.com/en/4.1/topics/async/\n",
    "import os\n",
    "\n",
    "os.environ[\"DJANGO_ALLOW_ASYNC_UNSAFE\"] = \"true\""
   ]
  },
  {
   "cell_type": "code",
   "execution_count": 2,
   "id": "b3606284",
   "metadata": {},
   "outputs": [],
   "source": [
    "from info_notes.models import Sites, Notes"
   ]
  },
  {
   "cell_type": "code",
   "execution_count": 7,
   "id": "e29b0fcf",
   "metadata": {},
   "outputs": [],
   "source": [
    "queries = Sites.objects.all()"
   ]
  },
  {
   "cell_type": "code",
   "execution_count": 8,
   "id": "2e748a75",
   "metadata": {},
   "outputs": [
    {
     "data": {
      "text/plain": [
       "<QuerySet [<Sites: Яндекс>, <Sites: Мой сайт>, <Sites: Youtube>]>"
      ]
     },
     "execution_count": 8,
     "metadata": {},
     "output_type": "execute_result"
    }
   ],
   "source": [
    "queries"
   ]
  },
  {
   "cell_type": "markdown",
   "id": "f99af391",
   "metadata": {},
   "source": [
    "**Поддерживает срезы:**"
   ]
  },
  {
   "cell_type": "code",
   "execution_count": 9,
   "id": "8887b414",
   "metadata": {},
   "outputs": [
    {
     "data": {
      "text/plain": [
       "<QuerySet [<Sites: Youtube>]>"
      ]
     },
     "execution_count": 9,
     "metadata": {},
     "output_type": "execute_result"
    }
   ],
   "source": [
    "queries[2:]"
   ]
  },
  {
   "cell_type": "markdown",
   "id": "8ef9510b",
   "metadata": {},
   "source": [
    "***Отсортировать по полю:**"
   ]
  },
  {
   "cell_type": "code",
   "execution_count": 13,
   "id": "5f80313a",
   "metadata": {},
   "outputs": [
    {
     "data": {
      "text/plain": [
       "<QuerySet [<Sites: Мой сайт>, <Sites: Яндекс>, <Sites: Youtube>]>"
      ]
     },
     "execution_count": 13,
     "metadata": {},
     "output_type": "execute_result"
    }
   ],
   "source": [
    "queries1 = Sites.objects.order_by('date_added')\n",
    "queries1"
   ]
  },
  {
   "cell_type": "code",
   "execution_count": 14,
   "id": "40b0af2f",
   "metadata": {},
   "outputs": [
    {
     "data": {
      "text/plain": [
       "<QuerySet [<Sites: Youtube>, <Sites: Яндекс>, <Sites: Мой сайт>]>"
      ]
     },
     "execution_count": 14,
     "metadata": {},
     "output_type": "execute_result"
    }
   ],
   "source": [
    "queries2 = Sites.objects.order_by('-date_added')\n",
    "queries2"
   ]
  },
  {
   "cell_type": "markdown",
   "id": "4aa22d9c",
   "metadata": {},
   "source": [
    "**Фильтр по определенному полю и значению:**"
   ]
  },
  {
   "cell_type": "code",
   "execution_count": 15,
   "id": "e4e4d1eb",
   "metadata": {},
   "outputs": [
    {
     "data": {
      "text/plain": [
       "<QuerySet [<Sites: Мой сайт>, <Sites: Яндекс>, <Sites: Youtube>]>"
      ]
     },
     "execution_count": 15,
     "metadata": {},
     "output_type": "execute_result"
    }
   ],
   "source": [
    "queryset3 = Sites.objects.filter(date_added__year=2023).order_by('date_added')\n",
    "queryset3\n"
   ]
  },
  {
   "cell_type": "markdown",
   "id": "05e9d54b",
   "metadata": {},
   "source": [
    "**Фильтр по определенному полю и больше какого-то значения:**"
   ]
  },
  {
   "cell_type": "code",
   "execution_count": 19,
   "id": "d97ab746",
   "metadata": {},
   "outputs": [
    {
     "data": {
      "text/plain": [
       "<QuerySet [<Sites: Мой сайт>, <Sites: Яндекс>, <Sites: Youtube>]>"
      ]
     },
     "execution_count": 19,
     "metadata": {},
     "output_type": "execute_result"
    }
   ],
   "source": [
    "queryset3 = Sites.objects.filter(date_added__year__gte=2022).order_by('date_added')\n",
    "queryset3\n"
   ]
  },
  {
   "cell_type": "markdown",
   "id": "8e1e6176",
   "metadata": {},
   "source": [
    "**Извлечения по id**"
   ]
  },
  {
   "cell_type": "code",
   "execution_count": 28,
   "id": "ee4fb91f",
   "metadata": {},
   "outputs": [
    {
     "data": {
      "text/plain": [
       "<Sites: Youtube>"
      ]
     },
     "execution_count": 28,
     "metadata": {},
     "output_type": "execute_result"
    }
   ],
   "source": [
    "qs = Sites.objects.get(id=3) # Подразумевается Sites.objects.get(id__exact=3)\n",
    "qs"
   ]
  },
  {
   "cell_type": "code",
   "execution_count": 29,
   "id": "934f33c6",
   "metadata": {},
   "outputs": [
    {
     "data": {
      "text/plain": [
       "<Sites: Youtube>"
      ]
     },
     "execution_count": 29,
     "metadata": {},
     "output_type": "execute_result"
    }
   ],
   "source": [
    "qs = Sites.objects.get(id__exact=3)\n",
    "qs"
   ]
  },
  {
   "cell_type": "markdown",
   "id": "ad14c3bd",
   "metadata": {},
   "source": [
    "**Извлечение по fk**"
   ]
  },
  {
   "cell_type": "code",
   "execution_count": 21,
   "id": "a57574ab",
   "metadata": {},
   "outputs": [
    {
     "data": {
      "text/plain": [
       "<QuerySet [<Notes: Article1>, <Notes: Article2>]>"
      ]
     },
     "execution_count": 21,
     "metadata": {},
     "output_type": "execute_result"
    }
   ],
   "source": [
    "Notes.objects.filter(sites__name='Яндекс')"
   ]
  },
  {
   "cell_type": "markdown",
   "id": "b350d87e",
   "metadata": {},
   "source": [
    "Можно в обратном порядке. В `Sites` нет foreign key, но эта модель связана с `Notes`:"
   ]
  },
  {
   "cell_type": "code",
   "execution_count": 28,
   "id": "c104315e",
   "metadata": {},
   "outputs": [
    {
     "data": {
      "text/plain": [
       "<QuerySet [<Sites: Мой сайт>, <Sites: Яндекс>, <Sites: Youtube>]>"
      ]
     },
     "execution_count": 28,
     "metadata": {},
     "output_type": "execute_result"
    }
   ],
   "source": [
    "num_notes = Sites.objects.annotate(num_notes=Count('notes'))\n",
    "num_notes"
   ]
  },
  {
   "cell_type": "code",
   "execution_count": 32,
   "id": "31cf18d8",
   "metadata": {},
   "outputs": [
    {
     "data": {
      "text/plain": [
       "0"
      ]
     },
     "execution_count": 32,
     "metadata": {},
     "output_type": "execute_result"
    }
   ],
   "source": [
    "num_notes[2].num_notes"
   ]
  },
  {
   "cell_type": "code",
   "execution_count": null,
   "id": "55b3afc1",
   "metadata": {},
   "outputs": [],
   "source": []
  }
 ],
 "metadata": {
  "kernelspec": {
   "display_name": "Django Shell-Plus",
   "language": "python",
   "name": "django_extensions"
  },
  "language_info": {
   "codemirror_mode": {
    "name": "ipython",
    "version": 3
   },
   "file_extension": ".py",
   "mimetype": "text/x-python",
   "name": "python",
   "nbconvert_exporter": "python",
   "pygments_lexer": "ipython3",
   "version": "3.9.13"
  }
 },
 "nbformat": 4,
 "nbformat_minor": 5
}

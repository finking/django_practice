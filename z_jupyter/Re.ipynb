{
 "cells": [
  {
   "cell_type": "markdown",
   "id": "7bc87567",
   "metadata": {},
   "source": [
    "# Именованные группы"
   ]
  },
  {
   "cell_type": "markdown",
   "id": "59c3eb6d",
   "metadata": {},
   "source": [
    " Синтаксис именованных групп является одним из расширений Python: `(?P<name>...)`.   \n",
    " Круглые скобки `()` - именнованая группа  \n",
    "  `?` - обозначает начало строки?? Хотя чаще в справочниках начало обозначается `^`. Видимо `?` - это начало для именнованных групп.  \n",
    " Если первый символ после знака вопроса `?` это P - расширение, специфичное для Python.  \n",
    " Переменная `name` это название группы. \n",
    " `\\Z` - обозначает конец строки?? Хотя чаще в справочниках окончание обозначается `$`. Видимо `\\Z` - это окончание для именнованных групп.  \n",
    " `\\d+` или `[0-9]+` - Любые цифры. Причем без `+ `, только одна цифра."
   ]
  },
  {
   "cell_type": "code",
   "execution_count": 1,
   "id": "da83f603",
   "metadata": {},
   "outputs": [],
   "source": [
    "import re"
   ]
  },
  {
   "cell_type": "markdown",
   "id": "a13d37d2",
   "metadata": {},
   "source": [
    "Синтаксис именованной группы (?P<name>regex):"
   ]
  },
  {
   "cell_type": "code",
   "execution_count": 2,
   "id": "249777c7",
   "metadata": {},
   "outputs": [],
   "source": [
    "url = 'page/ns/1/detail/'"
   ]
  },
  {
   "cell_type": "code",
   "execution_count": 3,
   "id": "45683a4f",
   "metadata": {},
   "outputs": [],
   "source": [
    "match1 = re.search(\"page/ns/(?P<pk>[0-9]+)/detail/\", url)"
   ]
  },
  {
   "cell_type": "code",
   "execution_count": 4,
   "id": "40ca6537",
   "metadata": {},
   "outputs": [
    {
     "data": {
      "text/plain": [
       "'1'"
      ]
     },
     "execution_count": 4,
     "metadata": {},
     "output_type": "execute_result"
    }
   ],
   "source": [
    "match1.group('pk')"
   ]
  },
  {
   "cell_type": "markdown",
   "id": "3b7d074e",
   "metadata": {},
   "source": [
    "Не понятно, нужно ли ставить на конце `\\\\Z`. Работает и без этого."
   ]
  },
  {
   "cell_type": "code",
   "execution_count": 5,
   "id": "e43a512a",
   "metadata": {},
   "outputs": [],
   "source": [
    "# match2 = re.match('page/ns/(?P<pk>[0-9]+)/detail/\\\\Z"
   ]
  },
  {
   "cell_type": "code",
   "execution_count": 6,
   "id": "d7102645",
   "metadata": {},
   "outputs": [],
   "source": [
    "match3 = re.search(\"(?P<test>\\d+)\", '123')"
   ]
  },
  {
   "cell_type": "code",
   "execution_count": 7,
   "id": "84240812",
   "metadata": {},
   "outputs": [
    {
     "data": {
      "text/plain": [
       "'123'"
      ]
     },
     "execution_count": 7,
     "metadata": {},
     "output_type": "execute_result"
    }
   ],
   "source": [
    "match3.group('test')"
   ]
  }
 ],
 "metadata": {
  "kernelspec": {
   "display_name": "Django Shell-Plus",
   "language": "python",
   "name": "django_extensions"
  },
  "language_info": {
   "codemirror_mode": {
    "name": "ipython",
    "version": 3
   },
   "file_extension": ".py",
   "mimetype": "text/x-python",
   "name": "python",
   "nbconvert_exporter": "python",
   "pygments_lexer": "ipython3",
   "version": "3.9.13"
  }
 },
 "nbformat": 4,
 "nbformat_minor": 5
}

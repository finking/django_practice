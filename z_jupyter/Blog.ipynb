{
 "cells": [
  {
   "cell_type": "code",
   "execution_count": 1,
   "id": "7ea286bb",
   "metadata": {},
   "outputs": [],
   "source": [
    "from django.db import models\n",
    "\n",
    "from blog.models import Post"
   ]
  },
  {
   "cell_type": "code",
   "execution_count": 2,
   "id": "1c74a35a",
   "metadata": {},
   "outputs": [],
   "source": [
    "# >>> fruit = Fruit.objects.create(name='Apple')\n",
    "# >>> fruit.name = 'Pear'\n",
    "# >>> fruit.save()\n",
    "# >>> Fruit.objects.values_list('name', flat=True)\n",
    "# <QuerySet ['Apple', 'Pear']>"
   ]
  },
  {
   "cell_type": "code",
   "execution_count": 7,
   "id": "696543c3",
   "metadata": {},
   "outputs": [],
   "source": [
    "post_test = Post.objects.create(title='Первый пост')\n",
    "post_test.title = 'Второй пост'\n",
    "post_test.save()"
   ]
  },
  {
   "cell_type": "code",
   "execution_count": 8,
   "id": "050a4ee0",
   "metadata": {},
   "outputs": [
    {
     "data": {
      "text/plain": [
       "<QuerySet [<Post: Post object (1)>, <Post: Post object (2)>]>"
      ]
     },
     "execution_count": 8,
     "metadata": {},
     "output_type": "execute_result"
    }
   ],
   "source": [
    "Post.objects.all()"
   ]
  },
  {
   "cell_type": "code",
   "execution_count": 9,
   "id": "e2acd06c",
   "metadata": {},
   "outputs": [
    {
     "data": {
      "text/plain": [
       "<QuerySet ['Первый пост', 'Второй пост']>"
      ]
     },
     "execution_count": 9,
     "metadata": {},
     "output_type": "execute_result"
    }
   ],
   "source": [
    "Post.objects.values_list('title', flat=True)"
   ]
  },
  {
   "cell_type": "code",
   "execution_count": null,
   "id": "3dd19c48",
   "metadata": {},
   "outputs": [],
   "source": []
  }
 ],
 "metadata": {
  "kernelspec": {
   "display_name": "Django Shell-Plus",
   "language": "python",
   "name": "django_extensions"
  },
  "language_info": {
   "codemirror_mode": {
    "name": "ipython",
    "version": 3
   },
   "file_extension": ".py",
   "mimetype": "text/x-python",
   "name": "python",
   "nbconvert_exporter": "python",
   "pygments_lexer": "ipython3",
   "version": "3.9.13"
  }
 },
 "nbformat": 4,
 "nbformat_minor": 5
}

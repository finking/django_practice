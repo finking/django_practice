{
 "cells": [
  {
   "cell_type": "code",
   "execution_count": 1,
   "id": "343de090",
   "metadata": {},
   "outputs": [],
   "source": [
    "from django.template import Context, Template\n",
    "template = Template(\"My name is {{ my_name }}.\")"
   ]
  },
  {
   "cell_type": "code",
   "execution_count": 2,
   "id": "46c6da05",
   "metadata": {},
   "outputs": [
    {
     "data": {
      "text/plain": [
       "'My name is Adrian.'"
      ]
     },
     "execution_count": 2,
     "metadata": {},
     "output_type": "execute_result"
    }
   ],
   "source": [
    "context = Context({\"my_name\": \"Adrian\"})\n",
    "template.render(context)"
   ]
  },
  {
   "cell_type": "code",
   "execution_count": 3,
   "id": "1e6edaea",
   "metadata": {},
   "outputs": [
    {
     "data": {
      "text/plain": [
       "'My name is Dolores.'"
      ]
     },
     "execution_count": 3,
     "metadata": {},
     "output_type": "execute_result"
    }
   ],
   "source": [
    "context = Context({\"my_name\": \"Dolores\"})\n",
    "template.render(context)"
   ]
  },
  {
   "cell_type": "code",
   "execution_count": 5,
   "id": "f3292472",
   "metadata": {},
   "outputs": [
    {
     "data": {
      "text/plain": [
       "'My name is Ron.'"
      ]
     },
     "execution_count": 5,
     "metadata": {},
     "output_type": "execute_result"
    }
   ],
   "source": [
    "t = Template(\"My name is {{ person.first_name }}.\")\n",
    "\n",
    "class PersonClass:\n",
    "    pass\n",
    "\n",
    "p = PersonClass()\n",
    "p.first_name = \"Ron\"\n",
    "p.last_name = \"Nasty\"\n",
    "t.render(Context({\"person\": p}))"
   ]
  },
  {
   "cell_type": "code",
   "execution_count": null,
   "id": "f0c36501",
   "metadata": {},
   "outputs": [],
   "source": []
  }
 ],
 "metadata": {
  "kernelspec": {
   "display_name": "Django Shell-Plus",
   "language": "python",
   "name": "django_extensions"
  },
  "language_info": {
   "codemirror_mode": {
    "name": "ipython",
    "version": 3
   },
   "file_extension": ".py",
   "mimetype": "text/x-python",
   "name": "python",
   "nbconvert_exporter": "python",
   "pygments_lexer": "ipython3",
   "version": "3.8.5"
  }
 },
 "nbformat": 4,
 "nbformat_minor": 5
}

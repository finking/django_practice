{
 "cells": [
  {
   "cell_type": "code",
   "execution_count": null,
   "id": "ba7f0b20-cda3-4d67-aa9e-be019d9045af",
   "metadata": {},
   "outputs": [],
   "source": [
    "# https://github.com/django/django/blob/c8eb9a7c451f7935a9eaafbb195acf2aa9fa867d/django/views/generic/list.py#L150\n",
    "\n",
    "\n",
    "\n",
    "\"\"\"\n",
    "- class ListView(MultipleObjectTemplateResponseMixin, BaseListView): - потомок двух классов\n",
    "- class BaseListView(MultipleObjectMixin, View): - потомок еще двух классов\n",
    "- class MultipleObjectTemplateResponseMixin(TemplateResponseMixin): - потомок еще одного родителя\n",
    "- \n",
    "- вот та иерархия, которой не хватало прошлый раз\n",
    "\n",
    "- попробую разобрать цепочку и добраться до истины) познать механизм.. начинаю с базового класса\n",
    "\n",
    "\"\"\""
   ]
  },
  {
   "cell_type": "code",
   "execution_count": null,
   "id": "d29eaf76-c880-4dbc-af02-671a2e21126a",
   "metadata": {},
   "outputs": [],
   "source": [
    "# 1. Разберем ближний класс родитель, который также наследуется от двух других классов. )  \"создаёт список чего-либо\"\n",
    "\n",
    "class BaseListView(MultipleObjectMixin, View):       # и этот класс в свою очередь имеет два родителя, один из которых я разбирал прошлый раз\n",
    "    \"\"\"Базовый вид для отображения списка объектов.\"\"\"\n",
    "\n",
    "    def get(self, request, *args, **kwargs):         # он вызывается когда делается HTTP запрос GET\n",
    "        self.object_list = self.get_queryset()       # сохраняем в object_list, количество страниц - то что я разбирал в прошлом уроке\n",
    "        allow_empty = self.get_allow_empty()         # метод вкладывается в переменную, которая отвечат за ошибку, если False, будет 404 ошибка\n",
    "                                                     # \n",
    "        if not allow_empty:                          # а если он не False\n",
    "            # Когда разбиение на страницы включено и object_list является набором запросов,\n",
    "            # лучше сделать запрос, чем загружать неразбитый\n",
    "            # набор запросов в памяти (перевод описания)\n",
    "            if self.get_paginate_by(self.object_list) is not None and hasattr(           # если для списка обьектов включена пагинация страниц\n",
    "                self.object_list, \"exists\"           #  результатом является True, если строка является именем одного из атрибутов объекта, и False, если нет\n",
    "            ):\n",
    "                is_empty = not self.object_list.exists()   # итак is_empty если False               \n",
    "            else:\n",
    "                is_empty = not self.object_list\n",
    "            if is_empty:                                   # иначе вызвать 404\n",
    "                raise Http404(\n",
    "                    _(\"Empty list and “%(class_name)s.allow_empty” is False.\")\n",
    "                    % {\n",
    "                        \"class_name\": self.__class__.__name__,\n",
    "                    }\n",
    "                )\n",
    "        context = self.get_context_data()                # данные которые должен отобразить в шаблоне\n",
    "        return self.render_to_response(context)          # используется для возврата HTTP ответа\n",
    "    \n",
    "    \n",
    "# я конечно понимаю, что разработчики которые писали этот код хотели использовать один и тот же код, или меньше строк кода, но так или иначе есть что есть\n",
    "# то есть сам ListView расширяется методами и атрибутами классов родителей, и уже в документации джанго ты играешь по этим правилам) \n",
    "# где то берут у родителя, данные берут из БД или используеют значения из методов, что то проверяют, используют, переиспользуют и имеют в итоге класс на выходе с некими возможностями"
   ]
  },
  {
   "cell_type": "code",
   "execution_count": 6,
   "id": "1014c72a-0f64-4f03-ba0d-c55491d603fd",
   "metadata": {},
   "outputs": [
    {
     "name": "stdout",
     "output_type": "stream",
     "text": [
      "True\n",
      "False\n",
      "False\n",
      "False\n"
     ]
    }
   ],
   "source": [
    "# проверка функции hasattr\n",
    "class MyClass:\n",
    "    def __init__(self, atr1, atr2):\n",
    "        self.atr1 = atr1\n",
    "        self.atr2 = atr2\n",
    "\n",
    "my_obj = MyClass(\"Hi\", \"Fi\")\n",
    "\n",
    "print(hasattr(my_obj, \"atr1\")) # типа экземпляр имеет такой атрибут да или нет\n",
    "print(hasattr(my_obj, \"atr3\")) \n",
    "print(hasattr(my_obj, \"Hi\")) \n",
    "print(hasattr(my_obj, \"Fi\")) "
   ]
  },
  {
   "cell_type": "code",
   "execution_count": null,
   "id": "260c38bb-ad3f-49f5-867f-6cec43ab2bc0",
   "metadata": {},
   "outputs": [],
   "source": [
    "# тут нужно разобрать View, еще одного родителя BaseListView - так как он огромный, разберу в отдельном файле"
   ]
  },
  {
   "cell_type": "code",
   "execution_count": null,
   "id": "46e97529-4eab-4311-b4fe-aa64c1eaab0a",
   "metadata": {},
   "outputs": [],
   "source": [
    "# 3. Третий на очереди class MultipleObjectTemplateResponseMixin(TemplateResponseMixin):\n",
    "\n",
    "class MultipleObjectTemplateResponseMixin(TemplateResponseMixin):\n",
    "    \"\"\" Класс примеси, который выполняет рендеринг ответа на основе шаблона для представлений, которые работают со списком экземпляров объекта\"\"\"\n",
    "\n",
    "    template_name_suffix = \"_list\"                       # собственный атрибут, будет использоваться как добавление строки\n",
    "\n",
    "    def get_template_names(self):\n",
    "        \"\"\"\n",
    "        Возвращает список имен шаблонов, которые будут использоваться для запроса. \n",
    "        Должен вернуться список. Не может вызываться, если параметр render_to_response переопределен.\n",
    "        \n",
    "        \"\"\"\n",
    "        try:\n",
    "            names = super().get_template_names()    # а если нам передано имя, то дальше код даже не выполняется\n",
    "        except ImproperlyConfigured:                # исключение возникает, когда Django неправильно настроен\n",
    "            # Если имя_шаблона не указано, это не проблема --\n",
    "             # мы просто начинаем с пустого списка.\n",
    "            names = []\n",
    "\n",
    "         # Если список представляет собой набор запросов, мы придумаем имя шаблона на основе\n",
    "         # приложения и названия модели. Это имя помещается в конец шаблона.\n",
    "         # список имен, чтобы введенные пользователем имена переопределяли автоматически созданных ( перевод описания)\n",
    "        if hasattr(self.object_list, \"model\"):       # ну типа если есть в нашем списке модель, то\n",
    "            opts = self.object_list.model._meta      # присваиваем ._meta\n",
    "            names.append(                            # согласно верхнему \n",
    "                \"%s/%s%s.html\"\n",
    "                % (opts.app_label, opts.model_name, self.template_name_suffix)\n",
    "            )\n",
    "        elif not names:                              # короче этот блок кода автоматом присваивает автоматически имя, имя модели, формат и расширение\n",
    "            raise ImproperlyConfigured(\n",
    "                \"%(cls)s requires either a 'template_name' attribute \"\n",
    "                \"or a get_queryset() method that returns a QuerySet.\"\n",
    "                % {\n",
    "                    \"cls\": self.__class__.__name__,\n",
    "                }\n",
    "            )\n",
    "        return names                                 # и вот тут возвращается уже автоматически созданное имя\n",
    "# в общем потихоньку, по строчке, по букве собираю общую картину, пытаюсь понять общую реализацию класса ListView\n",
    "# есть непонимание некоротых вещей, думаю чуть позже найду ответы, когда доберусь к самому главному родителю"
   ]
  },
  {
   "cell_type": "code",
   "execution_count": null,
   "id": "6900f83e-1448-42a4-b070-4138d77e6d46",
   "metadata": {},
   "outputs": [],
   "source": [
    "# 4. Четвёртый на очереди class TemplateResponseMixin:\n",
    "class TemplateResponseMixin:               # этот класс имееет всего два метода и ни от кого не наследуется\n",
    "    \"\"\" Миксин, который можно использовать для рендеринга шаблона \"\"\"\n",
    "\n",
    "    template_name = None            # этот атртибут я знаю из джанго.Views, мы через него пробрасываем наш шаблон\n",
    "    template_engine = None\n",
    "    response_class = TemplateResponse    # этот атрибут и есть присвоенный классу реализованный будет ниже\n",
    "    content_type = None\n",
    "\n",
    "    def render_to_response(self, context, **response_kwargs):           # передается self, переменная context и response_kwargs передаётся как словарь \n",
    "        \"\"\"\n",
    "        Возвращает ответ, используя `response_class` для этого представления, \n",
    "        с шаблоном, отображаемым с заданным контекстом.\n",
    "        Передайте response_kwargs конструктору класса ответа.\n",
    "        (описание)\n",
    "        \n",
    "        \"\"\"\n",
    "        response_kwargs.setdefault(\"content_type\", self.content_type)     # этот метод словаря \n",
    "        return self.response_class(\n",
    "            request=self.request,                 # возвращает данный обьект\n",
    "            template=self.get_template_names(),   # возвращает шаблон с помощью метода\n",
    "            context=context,                      # возвращает значение переменной (получается снова что этот метод только создаётся снизу, а тут уе возвращается)\n",
    "            using=self.template_engine,           # какой то механизм шаблона для джанго\n",
    "            **response_kwargs,                    # ну и вернуть сам словарь\n",
    "        )\n",
    "\n",
    "    def get_template_names(self):\n",
    "        \"\"\"\n",
    "        Возвращает список имен шаблонов, которые будут использоваться для запроса. Должен вернуться\n",
    "        список. Не может вызываться, если функция render_to_response() переопределена.\n",
    "        \n",
    "        \"\"\"\n",
    "        if self.template_name is None:\n",
    "            raise ImproperlyConfigured(\n",
    "                 \"TemplateResponseMixin требует определения \"\n",
    "                 \"имя_шаблона\" или реализация 'get_template_names()'\"\n",
    "            )\n",
    "        else:\n",
    "            return [self.template_name]       # если шаблон не определен, то вызвать исключение или вернуть если есть"
   ]
  },
  {
   "cell_type": "code",
   "execution_count": 16,
   "id": "28757b18-6373-4549-ac15-78404b9704b6",
   "metadata": {},
   "outputs": [
    {
     "name": "stdout",
     "output_type": "stream",
     "text": [
      "Value : 7\n",
      "Value : None\n",
      "{'Name': 'Zara', 'Age': 7, 'Sex': None}\n"
     ]
    }
   ],
   "source": [
    "dict = {'Name': 'Zara', 'Age': 7}                 # set_default -- метод говорит сам за себя и устанавливает default ключом, если он не доступен\n",
    "print (\"Value : %s\" %  dict.setdefault('Age', None))\n",
    "print (\"Value : %s\" %  dict.setdefault('Sex', None))\n",
    "print (dict)\n"
   ]
  },
  {
   "cell_type": "code",
   "execution_count": null,
   "id": "b5c0663c-d15a-4bc4-872c-6a92c83171e3",
   "metadata": {},
   "outputs": [],
   "source": [
    "# 5. class TemplateResponse(SimpleTemplateResponse): - пятый класс реализованный по цепочке для атрибута response_class\n",
    "class TemplateResponse(SimpleTemplateResponse):  # ну конечно же унаследован еще от одного класса\n",
    "    rendering_attrs = SimpleTemplateResponse.rendering_attrs + [\"_request\"]      # тут идёт вообще добавление атрибута с изменением\n",
    "\n",
    "    def __init__(                      # конструтктор принимает следующие аргументы\n",
    "        self,\n",
    "        request,                       # экземпляр HttpRequest\n",
    "        template,                      # шаблон\n",
    "        context=None,                  # контекст\n",
    "        content_type=None,             # тип он же формат контекста\n",
    "        status=None,                   # состояние HTTP код ответа\n",
    "        charset=None,                  # кодировка\n",
    "        using=None,                    # строка, представляющая механизм шаблонов\n",
    "        headers=None,                  # заголовки\n",
    "    ):\n",
    "        super().__init__(              # этот метод показывает явное наследование\n",
    "            template, context, content_type, status, charset, using, headers=headers\n",
    "        )\n",
    "        self._request = request"
   ]
  },
  {
   "cell_type": "code",
   "execution_count": null,
   "id": "ed77224f-2706-4899-962b-8383594ea106",
   "metadata": {},
   "outputs": [],
   "source": [
    "# 6. class SimpleTemplateResponse(HttpResponse): - ну и вот сам родитель https://github.com/django/django/blob/c8eb9a7c451f7935a9eaafbb195acf2aa9fa867d/django/template/response.py#L10"
   ]
  }
 ],
 "metadata": {
  "kernelspec": {
   "display_name": "Django Shell-Plus",
   "language": "python",
   "name": "django_extensions"
  },
  "language_info": {
   "codemirror_mode": {
    "name": "ipython",
    "version": 3
   },
   "file_extension": ".py",
   "mimetype": "text/x-python",
   "name": "python",
   "nbconvert_exporter": "python",
   "pygments_lexer": "ipython3",
   "version": "3.9.13"
  }
 },
 "nbformat": 4,
 "nbformat_minor": 5
}

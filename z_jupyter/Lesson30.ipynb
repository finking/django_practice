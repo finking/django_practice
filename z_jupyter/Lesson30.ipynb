{
 "cells": [
  {
   "cell_type": "markdown",
   "id": "6cafe182",
   "metadata": {},
   "source": [
    "Не понятно, почему Бовсуновский сначала создал экземпляр класса и присвоил его переменной PageDetailView. А потом этой же переменной назвал класс. Возможно, просто спешил. Поэтому немного переписал, чтобы не было \"пересечений\" имен"
   ]
  },
  {
   "cell_type": "code",
   "execution_count": 1,
   "id": "f92d4502",
   "metadata": {},
   "outputs": [],
   "source": [
    "class DetailView:\n",
    "    def __init__(self):\n",
    "        get_query_set = self.get_query_set\n",
    "        \n",
    "    def get_query_set(self):\n",
    "        print('Я вывожу все')"
   ]
  },
  {
   "cell_type": "code",
   "execution_count": 2,
   "id": "9bc4cea2",
   "metadata": {},
   "outputs": [],
   "source": [
    "DetailViewObj = DetailView()"
   ]
  },
  {
   "cell_type": "code",
   "execution_count": 3,
   "id": "8bc5b92f",
   "metadata": {},
   "outputs": [
    {
     "name": "stdout",
     "output_type": "stream",
     "text": [
      "Я вывожу все\n"
     ]
    }
   ],
   "source": [
    "DetailViewObj.get_query_set()"
   ]
  },
  {
   "cell_type": "code",
   "execution_count": 4,
   "id": "8efcf008",
   "metadata": {},
   "outputs": [],
   "source": [
    "class PageDetailView(DetailView):\n",
    "    def get_query_set(self):\n",
    "        print('Я вывожу все 110000')\n"
   ]
  },
  {
   "cell_type": "markdown",
   "id": "f526a9a4",
   "metadata": {},
   "source": [
    "Разобраться почему просит позиционный аргумент self... Пока не ясно."
   ]
  },
  {
   "cell_type": "code",
   "execution_count": 5,
   "id": "53d88fe3",
   "metadata": {},
   "outputs": [
    {
     "ename": "TypeError",
     "evalue": "get_query_set() missing 1 required positional argument: 'self'",
     "output_type": "error",
     "traceback": [
      "\u001b[1;31m---------------------------------------------------------------------------\u001b[0m",
      "\u001b[1;31mTypeError\u001b[0m                                 Traceback (most recent call last)",
      "Cell \u001b[1;32mIn[5], line 1\u001b[0m\n\u001b[1;32m----> 1\u001b[0m \u001b[43mPageDetailView\u001b[49m\u001b[38;5;241;43m.\u001b[39;49m\u001b[43mget_query_set\u001b[49m\u001b[43m(\u001b[49m\u001b[43m)\u001b[49m\n",
      "\u001b[1;31mTypeError\u001b[0m: get_query_set() missing 1 required positional argument: 'self'"
     ]
    }
   ],
   "source": [
    "PageDetailView.get_query_set()"
   ]
  },
  {
   "cell_type": "code",
   "execution_count": 6,
   "id": "5f810c58",
   "metadata": {},
   "outputs": [
    {
     "name": "stdout",
     "output_type": "stream",
     "text": [
      "Я вывожу все 110000\n"
     ]
    }
   ],
   "source": [
    "PageDetailView.get_query_set('')"
   ]
  },
  {
   "cell_type": "markdown",
   "id": "1c6a02b4",
   "metadata": {},
   "source": [
    "Кажется разобрался с TypeError. Потому что вызывал метод у класса, а не объекта"
   ]
  },
  {
   "cell_type": "code",
   "execution_count": 7,
   "id": "1e0671ee",
   "metadata": {},
   "outputs": [],
   "source": [
    "PageDetailViewObj = PageDetailView()"
   ]
  },
  {
   "cell_type": "code",
   "execution_count": 8,
   "id": "07e2b5b5",
   "metadata": {},
   "outputs": [
    {
     "name": "stdout",
     "output_type": "stream",
     "text": [
      "Я вывожу все 110000\n"
     ]
    }
   ],
   "source": [
    "PageDetailViewObj.get_query_set()"
   ]
  },
  {
   "cell_type": "markdown",
   "id": "5172d163",
   "metadata": {},
   "source": [
    "Чтобы понять, какой родительский класс, нужно у класса вызвать магический метод `__bases__`:"
   ]
  },
  {
   "cell_type": "code",
   "execution_count": 9,
   "id": "0df5d4b4",
   "metadata": {},
   "outputs": [
    {
     "data": {
      "text/plain": [
       "(__main__.DetailView,)"
      ]
     },
     "execution_count": 9,
     "metadata": {},
     "output_type": "execute_result"
    }
   ],
   "source": [
    "PageDetailView.__bases__"
   ]
  },
  {
   "cell_type": "code",
   "execution_count": null,
   "id": "5738c6fb",
   "metadata": {},
   "outputs": [],
   "source": []
  }
 ],
 "metadata": {
  "kernelspec": {
   "display_name": "Django Shell-Plus",
   "language": "python",
   "name": "django_extensions"
  },
  "language_info": {
   "codemirror_mode": {
    "name": "ipython",
    "version": 3
   },
   "file_extension": ".py",
   "mimetype": "text/x-python",
   "name": "python",
   "nbconvert_exporter": "python",
   "pygments_lexer": "ipython3",
   "version": "3.9.13"
  }
 },
 "nbformat": 4,
 "nbformat_minor": 5
}

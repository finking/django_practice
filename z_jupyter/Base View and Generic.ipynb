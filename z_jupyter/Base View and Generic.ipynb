{
 "cells": [
  {
   "cell_type": "markdown",
   "id": "8ce47a3d",
   "metadata": {},
   "source": [
    "# Base vs Generic views"
   ]
  },
  {
   "cell_type": "markdown",
   "id": "ade4c388",
   "metadata": {},
   "source": [
    "Представления на основе базового класса (**Base**) можно рассматривать как родительские представления, которые могут использоваться сами по себе или наследоваться от них. Они могут не предоставлять все возможности, необходимые для проектов, и в этом случае существуют микшины (**Mixins**), которые расширяют возможности базовых представлений.\n",
    "\n",
    "Общие представления (**Generic**) Django построены на основе этих базовых представлений и были разработаны как ярлык для общих шаблонов использования, таких как отображение сведений об объекте. Они используют определенные общие идиомы и шаблоны, найденные при разработке представлений, и абстрагируют их, чтобы вы могли быстро писать общие представления данных без необходимости повторяться.\n",
    "\n",
    "Для большинства общих представлений требуется ключ queryset, который является экземпляром QuerySet"
   ]
  },
  {
   "cell_type": "markdown",
   "id": "e2153f4b",
   "metadata": {},
   "source": [
    "## Base views\n",
    "- View\n",
    "- TemplateView\n",
    "- RedirectView"
   ]
  },
  {
   "cell_type": "markdown",
   "id": "95f5b3e9",
   "metadata": {},
   "source": [
    "***\n",
    "## Class-based generic views - flattened index\n",
    "## Simple generic views\n",
    "- View\n",
    "- TemplateView\n",
    "- RedirectView"
   ]
  },
  {
   "cell_type": "markdown",
   "id": "273b74d0",
   "metadata": {},
   "source": [
    "**Вопрос**: Пока не понятно, чем отличается Базовое представление View, от Общего представления View.\n",
    "Переходя по ссылке базового попадаю на методы общего:\n",
    "`class django.views.generic.base.View`"
   ]
  },
  {
   "cell_type": "markdown",
   "id": "6dc9f516",
   "metadata": {},
   "source": [
    "Базовый класс View (`class django.views.generic.base.View`) является родителем для всех остальных Представлений. \n",
    "Хоть и находится в generic - это не строго общий класс и можно вызвать через `django.views.`"
   ]
  },
  {
   "cell_type": "markdown",
   "id": "360a32b9",
   "metadata": {},
   "source": [
    "Ссылка с `django.views.` ведет на файл в котором прописано:"
   ]
  },
  {
   "cell_type": "code",
   "execution_count": 4,
   "id": "88e356e7",
   "metadata": {},
   "outputs": [],
   "source": [
    "# from django.views.generic.base import View\n",
    "\n",
    "# __all__ = [\"View\"]"
   ]
  },
  {
   "cell_type": "markdown",
   "id": "a4ffec08",
   "metadata": {},
   "source": [
    "Т.е. все базовое находится в файле `django.views.generic.base`, а в нем кроме базового `Views`, находится `ContextMixin` - \n",
    "базовые миксин для контекста."
   ]
  },
  {
   "cell_type": "code",
   "execution_count": null,
   "id": "0e0380b7",
   "metadata": {},
   "outputs": [],
   "source": []
  }
 ],
 "metadata": {
  "kernelspec": {
   "display_name": "Django Shell-Plus",
   "language": "python",
   "name": "django_extensions"
  },
  "language_info": {
   "codemirror_mode": {
    "name": "ipython",
    "version": 3
   },
   "file_extension": ".py",
   "mimetype": "text/x-python",
   "name": "python",
   "nbconvert_exporter": "python",
   "pygments_lexer": "ipython3",
   "version": "3.9.13"
  }
 },
 "nbformat": 4,
 "nbformat_minor": 5
}

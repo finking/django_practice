{
 "cells": [
  {
   "cell_type": "code",
   "execution_count": 1,
   "id": "f0f44029",
   "metadata": {},
   "outputs": [],
   "source": [
    "from datetime import datetime\n",
    "from django import forms\n",
    "from forms_app.forms import ContactForm"
   ]
  },
  {
   "cell_type": "code",
   "execution_count": 2,
   "id": "9cb5ff53",
   "metadata": {},
   "outputs": [
    {
     "data": {
      "text/plain": [
       "False"
      ]
     },
     "execution_count": 2,
     "metadata": {},
     "output_type": "execute_result"
    }
   ],
   "source": [
    "f = ContactForm()\n",
    "f.is_bound"
   ]
  },
  {
   "cell_type": "code",
   "execution_count": 3,
   "id": "ec4b0ffc",
   "metadata": {},
   "outputs": [
    {
     "data": {
      "text/plain": [
       "True"
      ]
     },
     "execution_count": 3,
     "metadata": {},
     "output_type": "execute_result"
    }
   ],
   "source": [
    "f = ContactForm({\"message\": \"Привет, как дела?\"})\n",
    "f.is_bound"
   ]
  },
  {
   "cell_type": "code",
   "execution_count": 32,
   "id": "0f5464ec",
   "metadata": {},
   "outputs": [],
   "source": [
    "# date_creation, subject, message, sender, cc_myself\n",
    "data = {\n",
    "#     'date_creation': datetime.strptime('11.05.2023', '%d.%m.%Y'),\n",
    "    'date_creation': '2023-05-11',\n",
    "    'subject': 'Hi',\n",
    "    'message': 'Hi, user!',\n",
    "    'sender': 'email@email.com'\n",
    "}\n",
    "\n",
    "f1 = ContactForm(data)"
   ]
  },
  {
   "cell_type": "code",
   "execution_count": 33,
   "id": "7b8dc5cd",
   "metadata": {},
   "outputs": [
    {
     "data": {
      "text/plain": [
       "True"
      ]
     },
     "execution_count": 33,
     "metadata": {},
     "output_type": "execute_result"
    }
   ],
   "source": [
    "f1.is_valid()"
   ]
  },
  {
   "cell_type": "code",
   "execution_count": 36,
   "id": "c71c31ae",
   "metadata": {},
   "outputs": [
    {
     "data": {
      "text/plain": [
       "{}"
      ]
     },
     "execution_count": 36,
     "metadata": {},
     "output_type": "execute_result"
    }
   ],
   "source": [
    "f1.errors"
   ]
  },
  {
   "cell_type": "code",
   "execution_count": null,
   "id": "31c63593",
   "metadata": {},
   "outputs": [],
   "source": []
  }
 ],
 "metadata": {
  "kernelspec": {
   "display_name": "Django Shell-Plus",
   "language": "python",
   "name": "django_extensions"
  },
  "language_info": {
   "codemirror_mode": {
    "name": "ipython",
    "version": 3
   },
   "file_extension": ".py",
   "mimetype": "text/x-python",
   "name": "python",
   "nbconvert_exporter": "python",
   "pygments_lexer": "ipython3",
   "version": "3.8.5"
  }
 },
 "nbformat": 4,
 "nbformat_minor": 5
}

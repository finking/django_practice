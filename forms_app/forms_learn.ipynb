{
 "cells": [
  {
   "cell_type": "code",
   "execution_count": 2,
   "id": "f0f44029",
   "metadata": {},
   "outputs": [],
   "source": [
    "from datetime import datetime\n",
    "from django import forms\n",
    "from forms_app.forms import ContactForm"
   ]
  },
  {
   "cell_type": "code",
   "execution_count": 3,
   "id": "9cb5ff53",
   "metadata": {},
   "outputs": [
    {
     "data": {
      "text/plain": [
       "False"
      ]
     },
     "execution_count": 3,
     "metadata": {},
     "output_type": "execute_result"
    }
   ],
   "source": [
    "f = ContactForm()\n",
    "f.is_bound"
   ]
  },
  {
   "cell_type": "code",
   "execution_count": 4,
   "id": "ec4b0ffc",
   "metadata": {},
   "outputs": [
    {
     "data": {
      "text/plain": [
       "True"
      ]
     },
     "execution_count": 4,
     "metadata": {},
     "output_type": "execute_result"
    }
   ],
   "source": [
    "f = ContactForm({\"message\": \"Привет, как дела?\"})\n",
    "f.is_bound"
   ]
  },
  {
   "cell_type": "code",
   "execution_count": 8,
   "id": "0f5464ec",
   "metadata": {},
   "outputs": [],
   "source": [
    "# date_creation, subject, message, sender, cc_myself\n",
    "data = {\n",
    "#     'date_creation': datetime.strptime('11.05.2023', '%d.%m.%Y'),\n",
    "    'date_creation': '2023-05-13',\n",
    "    'subject': 'Hi',\n",
    "    'message': 'Hi, user!',\n",
    "    'sender': 'email@email.com', \n",
    "    \"extra_field_1\": \"foo\", # это не поле\n",
    "}\n",
    "\n",
    "f1 = ContactForm(data)"
   ]
  },
  {
   "cell_type": "code",
   "execution_count": 9,
   "id": "7b8dc5cd",
   "metadata": {},
   "outputs": [
    {
     "data": {
      "text/plain": [
       "True"
      ]
     },
     "execution_count": 9,
     "metadata": {},
     "output_type": "execute_result"
    }
   ],
   "source": [
    "f1.is_valid()"
   ]
  },
  {
   "cell_type": "code",
   "execution_count": 10,
   "id": "c71c31ae",
   "metadata": {},
   "outputs": [
    {
     "data": {
      "text/plain": [
       "{}"
      ]
     },
     "execution_count": 10,
     "metadata": {},
     "output_type": "execute_result"
    }
   ],
   "source": [
    "f1.errors"
   ]
  },
  {
   "cell_type": "code",
   "execution_count": 11,
   "id": "31c63593",
   "metadata": {},
   "outputs": [
    {
     "data": {
      "text/plain": [
       "{'date_creation': None,\n",
       " 'subject': 'Hi',\n",
       " 'message': 'Hi, user!',\n",
       " 'sender': 'email@email.com',\n",
       " 'cc_myself': False}"
      ]
     },
     "execution_count": 11,
     "metadata": {},
     "output_type": "execute_result"
    }
   ],
   "source": [
    "f1.cleaned_data"
   ]
  },
  {
   "cell_type": "markdown",
   "id": "ed5ac914",
   "metadata": {},
   "source": [
    "Почему `'date_creation': None,` когда нет ошибок `errors` и не показывается, когда есть ошибки?  \n",
    "Когда есть ошибки, не показывается, потому что этот метод показывает только \"чистые\" поля (ошибочные не показыает). Но вот почему `'date_creation': None,`. Получает метод наш `clean_date_creation` \"переписывает\" `cleaned_data`?!"
   ]
  },
  {
   "cell_type": "markdown",
   "id": "f9b28610",
   "metadata": {},
   "source": [
    "Бовсуновский говорит, что `None`, потому что мы в классе указали `initial=datetime.date.today()`, то это будет только для Html! Мне кажется, что он не прав. Но как обосновать, пока не знаю"
   ]
  },
  {
   "cell_type": "markdown",
   "id": "e6c65a93",
   "metadata": {},
   "source": [
    "***\n",
    "**Важно!**  \n",
    "`cleaned_data` хранит только поля формы!!! Если добавить дополнтельный ключ `extra_field_1`, то он не будет отображается в этом методе!"
   ]
  },
  {
   "cell_type": "code",
   "execution_count": null,
   "id": "e2c02787",
   "metadata": {},
   "outputs": [],
   "source": []
  }
 ],
 "metadata": {
  "kernelspec": {
   "display_name": "Django Shell-Plus",
   "language": "python",
   "name": "django_extensions"
  },
  "language_info": {
   "codemirror_mode": {
    "name": "ipython",
    "version": 3
   },
   "file_extension": ".py",
   "mimetype": "text/x-python",
   "name": "python",
   "nbconvert_exporter": "python",
   "pygments_lexer": "ipython3",
   "version": "3.9.13"
  }
 },
 "nbformat": 4,
 "nbformat_minor": 5
}
